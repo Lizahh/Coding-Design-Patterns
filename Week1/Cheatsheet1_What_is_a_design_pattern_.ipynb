{
  "nbformat": 4,
  "nbformat_minor": 0,
  "metadata": {
    "colab": {
      "provenance": []
    },
    "kernelspec": {
      "name": "python3",
      "display_name": "Python 3"
    },
    "language_info": {
      "name": "python"
    }
  },
  "cells": [
    {
      "cell_type": "markdown",
      "source": [
        "# **A) What is Design Pattern?**"
      ],
      "metadata": {
        "id": "5Ep7iuws61Oy"
      }
    },
    {
      "cell_type": "markdown",
      "source": [
        "\n",
        "\n",
        "*   Design pattern is like a general concept for solving a particular problem. It’s like a template you follow to solve recurring problems in code organization.\n",
        "*   Design patterns are \"typical solutions\"/\"standard solution\" of commonly occuring problems in software design.\n",
        "\n",
        "*   These are like blueprints that we can customize to design solution of a problem in our code. Understand that design patterns are about organizing code to solve common problems.\n",
        "\n",
        "*   You can't just copy a pattern into your code like you do with libraries (e.g. import timeit). You just need to follow the pattern details and implement solution that suits the realities of your own program.\n",
        "\n",
        "*   Patters are often confused with algorithms because both describe typical solutions to problems. but there is a difference in both:\n",
        "\n",
        "1. An **algorithm** is a step-by-step solution to a specific problem (e.g., sorting numbers).\n",
        "\n",
        "> Example: Imagine you're baking a cake. An algorithm is like a recipe that tells you exactly what steps to follow to make the cake (e.g., \"mix ingredients, bake at 350°F for 30 minutes\"). It’s a clear, step-by-step guide to get something done.*\n",
        "\n",
        "\n",
        "2. A **design pattern** is a way to organize your code so it’s easier to understand, maintain, and reuse.\n",
        "\n",
        "\n",
        "> Example 1: Now imagine you’re not just making one cake but running a bakery. A design pattern is more like a strategy for setting up your bakery so that you can bake cakes more efficiently and keep things organized (e.g., \"have a counter for mixing, a separate station for baking, and a cooling area\"). It helps you think about how to organize your work so it’s easier to manage and scale.\n",
        "\n",
        "> Example 2: Imagine you’re building a house: You use a blueprint (design pattern) to know how to organize the rooms (code). Every house might be different, but you generally follow the same idea (kitchen in one part, bedroom in another).\n",
        "\n",
        "\n",
        "* **Reusability:** Patterns help you avoid writing the same code repeatedly.\n",
        "* **Scalability:** They make it easier to expand and maintain the code.\n",
        "\n",
        "\n",
        "\n",
        "\n",
        "\n"
      ],
      "metadata": {
        "id": "XkzxcB6460l7"
      }
    },
    {
      "cell_type": "markdown",
      "source": [
        "**IT ALLOWS TO MAKE FOUNDATION OF MORE COMPLEX APPLICATIONS.**"
      ],
      "metadata": {
        "id": "Nq6Xt8b860pR"
      }
    },
    {
      "cell_type": "markdown",
      "source": [
        "> Think of design pattens like the way you would think of recipes in cooking. There are some dishes that people have experimented with and cooked over and over again. After a while, a certain way of cooking a particular dish would be preferred because it creates the best tasting dish. Over the years, developers have experimented with many different design solutions. And these design patterns outline solutions that often create the best outcome."
      ],
      "metadata": {
        "id": "peTwucrCCrsH"
      }
    },
    {
      "cell_type": "markdown",
      "source": [
        "* However, it's important to note that it won't be so simple to look at a software design problem and automatically know which design pattern to use. There are many design patterns available and sometimes one particular design pattern may seem applicable, but it may not actually be the right fit to the problem at hand.\n",
        "\n",
        "* Using design patterns is sort of like playing a game of chess. There are many ways to win by putting your opponent in checkmate.\n",
        "\n",
        "A beginner chess player may only know the basic moves of each piece. Whereas an expert chess player will look for appropriate patterns on the board.\n",
        "\n",
        "There are established chess patterns called the exposed king or the isolated pawn, for example. And these are patterns that experts will look to exploit while playing the game.\n",
        "\n",
        "Through experience, they are better able to judge which patterns to use or create in a particular situation to win the game. Similar to chess, beginner software developers might only know the elements of language syntax in programming software. They know elements like how to create a for loop, a method, and so on. But with more practice and experience, these software developers will write more idiomatic code that follows common conventions. Also, they can become design experts who know the design patterns to use in solving particular software design problems."
      ],
      "metadata": {
        "id": "Uvox4Fq5DjvB"
      }
    },
    {
      "cell_type": "markdown",
      "source": [
        "# **B) What is Code Smells?**"
      ],
      "metadata": {
        "id": "ZUPzsfQl60sw"
      }
    },
    {
      "cell_type": "markdown",
      "source": [
        "* Code smells are signs or indicators in your code that suggest something is wrong or could be improved.\n",
        "\n",
        "* They don’t necessarily stop your code from working, but they make it harder to maintain, understand, or extend in the future.\n",
        "\n",
        "> Think of code smells like bad smells in a room: they don’t mean the room is falling apart, but they suggest that something isn’t right, and you should clean it up to avoid bigger problems later.\n",
        "\n",
        "**Key Characteristics of Code Smells:**\n",
        "\n",
        "1. **Unnecessary Complexity**: The code is more complicated than it needs to be.\n",
        "\n",
        "2. **Poor Readability**: It's hard to understand what the code is doing.\n",
        "\n",
        "3. **Fragility:** Small changes in one part of the code might cause issues elsewhere.\n",
        "\n",
        "4. **Duplication:** The same or very similar code is repeated in many places.\n",
        "\n",
        "**Examples of Code Smells:**\n",
        "\n",
        "1. **Long Methods:** A function or method is too long and does too many things. It can be hard to understand or debug.\n",
        "\n",
        "   *Smell:* If a function has 100 lines of code, it likely needs to be broken into smaller functions.\n",
        "\n",
        "2. **Duplicate Code:** The same code appears in multiple places, making it harder to maintain (if you need to update one, you have to update all).\n",
        "\n",
        "    *Smell:* Copy-pasting large blocks of code instead of reusing functions.\n",
        "\n",
        "3. **Large Classes:** A class does too many things and isn’t focused on a single responsibility.\n",
        "\n",
        "  *Smell:* One class handles database operations, UI, and business logic—it’s too cluttered.\n",
        "\n",
        "4. **Too Many Parameters:** Functions or methods that take too many arguments can be difficult to understand or use.\n",
        "\n",
        "  *Smell:* A function with 7 or 8 parameters is hard to call correctly.\n",
        "5. **Magic Numbers or Strings:** Using hardcoded numbers or strings without explanation.\n",
        "\n",
        "   *Smell:* if (speed > 100) instead of defining const MAX_SPEED = 100 and using that in the code."
      ],
      "metadata": {
        "id": "GxsYttIy60xP"
      }
    },
    {
      "cell_type": "markdown",
      "source": [
        "# **C) Why should you use design patterns?**"
      ],
      "metadata": {
        "id": "496GgjeN601D"
      }
    },
    {
      "cell_type": "markdown",
      "source": [
        "* Design patterns help software developers so that instead of building everything from scratch, they have a guide that helps them solve design problems in the way experts do.\n",
        "\n",
        "* A beginner athlete may have the natural talent and basic knowledge of the sport they playing. But a couch with years of experience will be able to help that athlete to become better and use their talent to achieve greater things.\n",
        "\n",
        "* Design patterns are already proven by experts, and they've gone through the hardships. You can skip the trials they've already gone through, and just to straight to creating better written software."
      ],
      "metadata": {
        "id": "kmCvVZPXD1Yr"
      }
    },
    {
      "cell_type": "markdown",
      "source": [
        "> For example, there's a very common design problem in software where you have two objects and the first object depends on the second object. If the second object changes, the first object should be notified. This is a situation that occurs often in software and we take some time during the discussion to describe a solution involving super classes or interphases and certain methods.\n",
        "\n",
        "> Design patterns help to address issue by giving each pattern a name and making it easier for developers to communicate. Instead, you can simply say we'll use an **observer design pattern** here.\n",
        "\n",
        "> Prior knowledge of this particular pattern outlines a solution and clarifies the original situation. So the discussion can focus on other issues. Knowledge of design patterns leaves less room for misunderstanding.\n",
        "\n",
        "> My description of this situation and solution could've been vague. And you could've misunderstood the design to be implemented. If I simply say, this is an observer pattern, we both know exactly what we're discussing."
      ],
      "metadata": {
        "id": "LYaB9mqpEeXx"
      }
    }
  ]
}