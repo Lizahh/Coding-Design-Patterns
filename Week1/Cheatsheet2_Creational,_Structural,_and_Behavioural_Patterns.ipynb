{
  "nbformat": 4,
  "nbformat_minor": 0,
  "metadata": {
    "colab": {
      "provenance": []
    },
    "kernelspec": {
      "name": "python3",
      "display_name": "Python 3"
    },
    "language_info": {
      "name": "python"
    }
  },
  "cells": [
    {
      "cell_type": "markdown",
      "source": [
        "# **History:**\n",
        "\n",
        "* One of the most famous books on the topic is Design Patterns: **Elements of Reusable Object-Oriented Software.**\n",
        "\n",
        "* This book was written by four authors who were given the nickname, **The Gang of Four**.\n",
        "\n",
        "* The Gang of Four wrote their book based on their experience as developers. Each of them had created their own programs and graphics applications.\n",
        "\n",
        "  While doing this, they noticed repeating patterns in their designs. Together, they decided to organize these patterns into a helpful guide. The patterns are easy to read and have names that explain their purpose.\n",
        "\n",
        "* A simple example of a pattern is defining and calling methods.\n",
        "\n",
        "* When patterns are grouped together to solve a specific type of problem, they form a Pattern Language. The pattern language you use depends on the problem you are solving.\n",
        "\n",
        "**Example:**\n",
        "\n",
        "* When designing games, you might use a different pattern language than if you were creating accounting software.\n",
        "\n",
        "* For games, you have designed words such as encounters, quests, and players. These words are important in design patterns for game software, but would not be found in design patterns for accounting software.\n",
        "\n",
        "* In accounting software, double entry bookkeeping is a vital design solution to reduce errors, and ensure consistency in the transactions. Double entry bookkeeping would not need to be defined in the pattern language for game design.\n",
        "\n",
        "* There are 23 patterns found in the Gang of Four's catalog. We will describe the **categories of patterns** that book defined.\n"
      ],
      "metadata": {
        "id": "ORmEsql6SsFv"
      }
    },
    {
      "cell_type": "markdown",
      "source": [
        "# **A) Creational Patterns:**"
      ],
      "metadata": {
        "id": "JXQVWIa5SsIC"
      }
    },
    {
      "cell_type": "markdown",
      "source": [
        "* Creational Patterns tackle how you handle creating new objects.\n",
        "\n",
        "* For example, if you are creating an object that is similar to an existing one, instead of instantiating a new object, you might clone existing objects.\n",
        "\n",
        "* You might make the choice to clone, rather than instantiate based upon the language you are implementing in.\n",
        "\n",
        "* **Cloning** means making an exact copy of something. In programming, cloning usually refers to:\n",
        "\n",
        "> **Copying Objects** – Creating a new object that is an exact copy of an existing one.\n",
        "\n",
        "> **Example:** In Python, you can use .copy() for shallow copies or copy.deepcopy() for deep copies."
      ],
      "metadata": {
        "id": "G_qJBulySsKD"
      }
    },
    {
      "cell_type": "markdown",
      "source": [
        "**Read it:**\n",
        "\n",
        "* Some programming languages don’t use classes like Java and C#. Instead, they let you copy (clone) and modify existing objects.\n",
        "\n",
        "> For example, JavaScript doesn’t use traditional classes. Instead, it creates objects from other objects. These copies are called prototypes, and you can change them while the program is running.\n",
        "\n",
        ">On the other hand, Java and C# use classes to create objects. These classes are set up before the program runs and can’t be changed the same way.\n",
        "\n",
        "The way a language creates objects affects how you solve problems in your code.\n",
        "\n",
        "**Explanation:**\n",
        "\n",
        "\n",
        "**1. Two Ways to Create Objects**.\n",
        "\n",
        "There are two main ways that programming languages create objects:\n",
        "\n",
        "> a. Using Classes (like Java & C#)\n",
        "\n",
        "> b. Using Prototypes (like JavaScript)\n",
        "\n",
        "**a. Class-Based (Java & C#)**\n",
        "\n",
        " 🛑 Imagine you are making a mold (class) for a toy car.\n",
        "\n",
        "  🛑 You can create many toy cars (objects) from this mold.\n",
        "\n",
        "  🛑 But once the mold is made, you can’t change it easily. Aik bar class se 10 objects bna liye or us k bd ap class me change krlo to un 10 objects me wo changes reflect ni hon gi.\n",
        "  \n",
        "  🛑 Once the class is created, all objects created from that blueprint must follow the same rules.\n",
        "  \n",
        "  🛑 In Java & C#, you must define a class before the program runs.\n",
        "\n",
        "**b. Prototype-Based (JavaScript)**\n",
        "\n",
        "✅ Instead of using a mold (class), you start with one toy car (object).\n",
        "\n",
        "✅ If you want a new one, you copy (clone) it and make changes.\n",
        "\n",
        "✅ You can modify the copy anytime while the program is running.\n",
        "\n",
        "✅ In JavaScript, objects are made by cloning and tweaking existing ones—this is called prototyping.\n",
        "\n",
        "✅ You can modify objects even after they are created!\n",
        "\n",
        "**Why Does This Matter?**\n",
        "\n",
        "* If a language uses classes, you must define everything first and follow the structure.\n",
        "\n",
        "* If a language uses prototypes, you can copy and modify objects freely, even while the program is running.\n",
        "This affects how you write code and solve problems in different programming languages.\n",
        "\n",
        "> Java & C# → Use strict blueprints (classes)\n",
        "\n",
        "> JavaScript → Lets you copy & modify (prototypes) freely\n",
        "\n",
        "\n",
        "\n",
        "\n",
        "\n"
      ],
      "metadata": {
        "id": "pKMJ45VXSsMe"
      }
    },
    {
      "cell_type": "markdown",
      "source": [
        "# **B) Structural Patterns:**"
      ],
      "metadata": {
        "id": "oIAeyiocSsOo"
      }
    },
    {
      "cell_type": "markdown",
      "source": [
        "* Structural patterns focus on how different objects (things in your code) are connected or related to each other.\n",
        "\n",
        "* These patterns show how objects fit together in a system to achieve a specific goal, just like pieces of a puzzle coming together.\n",
        "\n",
        "**How Objects Relate to Each Other:**\n",
        "\n",
        "* When designing your program, you may want to group objects together in different ways. This could be:\n",
        "\n",
        "1. Objects are linked together, like friends in a group **(Association).**\n",
        "\n",
        "2. Some objects are part of other objects, like a wheel is part of a car **(Aggregation, Composition).**\n",
        "\n",
        "3. Some objects might inherit features from other objects, like how a dog is a type of animal **(Inheritance).**\n",
        "\n",
        "* In structural patterns, you decide how objects should be related to each other, just like you decide which ingredients go well together in a dish.\n",
        "\n",
        "* These relationships (such as inheritance or aggregation) help you structure your program to achieve a desired design goal.\n",
        "\n"
      ],
      "metadata": {
        "id": "cwKzmZhRSsQ0"
      }
    },
    {
      "cell_type": "markdown",
      "source": [
        "**C) Behavioral Patterns:**\n",
        "\n",
        "\n",
        "* Focus on how objects interact and distribute work to achieve a common goal.\n",
        "\n",
        "* It’s about how objects communicate with each other and share responsibilities.\n",
        "\n",
        "* These patterns describe the tasks each object does and how they work together to complete a larger task."
      ],
      "metadata": {
        "id": "r0ax4_MDSsS_"
      }
    },
    {
      "cell_type": "markdown",
      "source": [
        "**Example:**\n",
        "Think of a pit crew at a race:\n",
        "\n",
        "> The team works together to help the race car win.\n",
        "\n",
        "> Each person has their own job: some change the tires, some refuel the car, and others fix the car if needed.\n",
        "\n",
        "> They all have different jobs, but they work together to reach the same goal, which is winning the race.\n",
        "\n",
        "In behavioral patterns, you assign specific tasks to different objects, but they work together towards a common purpose. It’s like having a game plan where everyone knows their job and contributes to the overall goal.\n"
      ],
      "metadata": {
        "id": "t8h6x8WXSsVY"
      }
    },
    {
      "cell_type": "markdown",
      "source": [
        "Summary:\n",
        "\n",
        "## **Structural Patterns:**\n",
        "\n",
        "* Focus on how objects are organized and connected to each other.\n",
        "\n",
        "* It’s about how objects fit together to form larger structures in your code.\n",
        "\n",
        "* These patterns describe relationships between objects: How one object contains or uses another, or how they are linked.\n",
        "\n",
        "**Example:**\n",
        "\n",
        "**Adapter Pattern:** It connects different types of objects that wouldn’t normally work together. It's like fitting different puzzle pieces together.\n",
        "\n",
        "## **Behavioral Patterns:**\n",
        "\n",
        "* Focus on how objects interact and distribute work to achieve a common goal.\n",
        "\n",
        "* It’s about how objects communicate with each other and share responsibilities.\n",
        "\n",
        "* These patterns describe the tasks each object does and how they work together to complete a larger task.\n",
        "\n",
        "* Example:\n",
        "\n",
        "Observer Pattern: It's like a news feed where many people are waiting for updates. When something changes, everyone who is subscribed gets notified.\n",
        "\n",
        "**Summary:**\n",
        "Structural patterns are about how objects are related or organized.\n",
        "Behavioral patterns are about how objects interact with each other to achieve a goal.\n",
        "\n"
      ],
      "metadata": {
        "id": "T0Zc36mBSsXa"
      }
    }
  ]
}